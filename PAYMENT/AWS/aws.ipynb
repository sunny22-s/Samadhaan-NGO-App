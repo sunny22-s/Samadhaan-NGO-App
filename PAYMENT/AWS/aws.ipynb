{
 "cells": [
  {
   "cell_type": "code",
   "execution_count": null,
   "metadata": {},
   "outputs": [],
   "source": [
    "!pip3 install boto3"
   ]
  },
  {
   "cell_type": "code",
   "execution_count": null,
   "metadata": {},
   "outputs": [],
   "source": [
    "import boto3\n",
    "\n",
    "session=boto3.Session(\n",
    "    aws_access_key_id='',   \n",
    "    aws_secret_access_key='',\n",
    "    region_name='ap-south-1'        \n",
    ")\n",
    "\n",
    "ec2 = session.resource('ec2')"
   ]
  },
  {
   "cell_type": "code",
   "execution_count": null,
   "metadata": {},
   "outputs": [],
   "source": [
    "instance = ec2.create_instances(\n",
    "    ImageId='ami-0f5ee92e2d63afc18',  \n",
    "    InstanceType='t2.micro',\n",
    "    MinCount=1,\n",
    "    MaxCount=1,\n",
    "    SecurityGroups=['ngo-donation-module'],  \n",
    "    KeyName='NGO',\n",
    "    UserData=open('script.sh', 'r').read(),\n",
    ")[0]\n",
    "\n",
    "instance.create_tags(Tags=[{'Key': 'Name', 'Value': 'Ngo-Payment'}])\n",
    "\n",
    "print(instance)\n",
    "print('Running and waiting for DNS')\n",
    "instance.wait_until_running()\n",
    "\n",
    "\n",
    "public_dns = instance.public_dns_name\n",
    "print(\"Public DNS:\", public_dns)"
   ]
  },
  {
   "cell_type": "markdown",
   "metadata": {},
   "source": [
    "# RDS Config"
   ]
  },
  {
   "cell_type": "code",
   "execution_count": null,
   "metadata": {},
   "outputs": [],
   "source": [
    "client=session.client('rds')\n",
    "db_instance_identifier='ngo-donation'"
   ]
  },
  {
   "cell_type": "code",
   "execution_count": null,
   "metadata": {},
   "outputs": [],
   "source": [
    "def create_db_inst():\n",
    "    \n",
    "    response=client.create_db_instance(\n",
    "        DBInstanceIdentifier = db_instance_identifier,\n",
    "        DBInstanceClass = 'db.t3.micro',\n",
    "        Engine = 'mysql',\n",
    "        MasterUsername = 'admin',\n",
    "        VpcSecurityGroupIds=['sg-0c2c2a3c1b9891a6c'],\n",
    "        MasterUserPassword = 'Rds-2023',\n",
    "        AllocatedStorage = 20,  \n",
    "        AvailabilityZone = 'ap-south-1a',  \n",
    "        DBParameterGroupName = 'default.mysql8.0',  \n",
    "        MultiAZ = False,\n",
    "        Tags=[{'Key': 'Name', 'Value': 'MySqlDBInstance'}], \n",
    "    )\n",
    "\n",
    "    return response"
   ]
  },
  {
   "cell_type": "code",
   "execution_count": null,
   "metadata": {},
   "outputs": [],
   "source": [
    "response=create_db_inst()\n",
    "print(response)\n",
    "\n",
    "client.get_waiter('db_instance_available').wait(DBInstanceIdentifier=db_instance_identifier)\n",
    "\n",
    "print(\"DB instance created successfully!\")\n",
    "print(\"DB Instance ID:\", response['DBInstance']['DBInstanceIdentifier'])"
   ]
  }
 ],
 "metadata": {
  "language_info": {
   "name": "python"
  }
 },
 "nbformat": 4,
 "nbformat_minor": 2
}
